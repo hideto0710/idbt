{
 "cells": [
  {
   "cell_type": "code",
   "execution_count": null,
   "id": "335efd1d",
   "metadata": {
    "scrolled": true
   },
   "outputs": [],
   "source": [
    "select\n",
    "  channel_id,\n",
    "  COUNT(DISTINCT video_id) as sum_video,\n",
    "  SUM(view_count) as sum_view,\n",
    "  SUM(like_count) as sum_like,\n",
    "  SUM(favorite_count) as sum_favorite,\n",
    "  SUM(comment_count) as sum_comment,\n",
    "\n",
    "from {{ ref('base_videos') }}\n",
    "\n",
    "group by channel_id\n",
    "\n",
    "limit 1"
   ]
  },
  {
   "cell_type": "code",
   "execution_count": null,
   "id": "d938866e",
   "metadata": {
    "scrolled": true
   },
   "outputs": [],
   "source": [
    "select\n",
    "  c.title,\n",
    "  c.subscriber_count,\n",
    "  c.video_count,\n",
    "  c.view_count,\n",
    "\n",
    "from {{ ref('dim_channels') }} c"
   ]
  },
  {
   "cell_type": "code",
   "execution_count": null,
   "id": "b7527acb",
   "metadata": {
    "scrolled": true
   },
   "outputs": [],
   "source": [
    "with aggs as (\n",
    "  select\n",
    "    channel_id,\n",
    "    COUNT(DISTINCT video_id) as sum_video,\n",
    "    SUM(view_count) as sum_view,\n",
    "    SUM(like_count) as sum_like,\n",
    "    SUM(favorite_count) as sum_favorite,\n",
    "    SUM(comment_count) as sum_comment,\n",
    "\n",
    "  from {{ ref('base_videos') }}\n",
    "\n",
    "  group by channel_id\n",
    ")\n",
    "\n",
    "select\n",
    "  c.title,\n",
    "  c.subscriber_count,\n",
    "  c.video_count,\n",
    "  v.sum_video,\n",
    "  c.view_count,\n",
    "  v.sum_view,\n",
    "  v.sum_like,\n",
    "  v.sum_favorite,\n",
    "  v.sum_comment,\n",
    "\n",
    "from {{ ref('dim_channels') }} c\n",
    "left join aggs v using(channel_id)\n",
    "order by channel_id"
   ]
  },
  {
   "cell_type": "code",
   "execution_count": null,
   "id": "51d575a9",
   "metadata": {},
   "outputs": [],
   "source": []
  }
 ],
 "metadata": {
  "kernelspec": {
   "display_name": "DBT",
   "language": "text",
   "name": "idbt"
  },
  "language_info": {
   "file_extension": ".sql",
   "mimetype": "text/x-sql",
   "name": "sql"
  }
 },
 "nbformat": 4,
 "nbformat_minor": 5
}