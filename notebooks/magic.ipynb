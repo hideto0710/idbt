{
 "cells": [
  {
   "cell_type": "code",
   "execution_count": null,
   "id": "196dcd74",
   "metadata": {},
   "outputs": [],
   "source": [
    "%load_ext idbt.magics"
   ]
  },
  {
   "cell_type": "code",
   "execution_count": null,
   "id": "723f8734",
   "metadata": {},
   "outputs": [],
   "source": [
    "df = None"
   ]
  },
  {
   "cell_type": "code",
   "execution_count": null,
   "id": "862c16ca",
   "metadata": {},
   "outputs": [],
   "source": [
    "%%dbt run --dest_var df\n",
    "select\n",
    "  c.title,\n",
    "  c.subscriber_count,\n",
    "  c.video_count,\n",
    "  c.view_count,\n",
    "from {{ ref('dim_channels') }} c"
   ]
  },
  {
   "cell_type": "code",
   "execution_count": null,
   "id": "24b82a7f",
   "metadata": {},
   "outputs": [],
   "source": [
    "import bamboolib as bam\n",
    "df"
   ]
  },
  {
   "cell_type": "code",
   "execution_count": null,
   "id": "6a1472af",
   "metadata": {},
   "outputs": [],
   "source": []
  }
 ],
 "metadata": {
  "kernelspec": {
   "display_name": "Python 3 (ipykernel)",
   "language": "python",
   "name": "python3"
  },
  "language_info": {
   "codemirror_mode": {
    "name": "ipython",
    "version": 3
   },
   "file_extension": ".py",
   "mimetype": "text/x-python",
   "name": "python",
   "nbconvert_exporter": "python",
   "pygments_lexer": "ipython3",
   "version": "3.8.9"
  }
 },
 "nbformat": 4,
 "nbformat_minor": 5
}